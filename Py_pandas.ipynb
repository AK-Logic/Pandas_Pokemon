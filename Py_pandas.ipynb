{
 "cells": [
  {
   "attachments": {},
   "cell_type": "markdown",
   "id": "6d1b2951",
   "metadata": {},
   "source": [
    "Pokemon Dataset"
   ]
  },
  {
   "cell_type": "code",
   "execution_count": 1,
   "id": "b8c7e454",
   "metadata": {},
   "outputs": [
    {
     "name": "stdout",
     "output_type": "stream",
     "text": [
      "   #       Name Type 1  Type 2  HP  Attack  Defense  Sp. Atk  Sp. Def  Speed  \\\n",
      "0  1  Bulbasaur  Grass  Poison  45      49       49       65       65     45   \n",
      "1  2    Ivysaur  Grass  Poison  60      62       63       80       80     60   \n",
      "2  3   Venusaur  Grass  Poison  80      82       83      100      100     80   \n",
      "\n",
      "   Generation  Legendary  \n",
      "0           1      False  \n",
      "1           1      False  \n",
      "2           1      False  \n"
     ]
    }
   ],
   "source": [
    "import pandas as pd\n",
    "\n",
    "df = pd.read_csv('pokemon_data.csv')\n",
    "#can also do pd.read_excel('path.xlsx') OR pd.read_csv('path.txt', delimiter = '\\t') for tab delimiter\n",
    "\n",
    "print(df.head(3))"
   ]
  },
  {
   "cell_type": "markdown",
   "id": "4f4251e5",
   "metadata": {},
   "source": [
    "Reading Data using Pandas"
   ]
  },
  {
   "cell_type": "code",
   "execution_count": 2,
   "id": "4144838c",
   "metadata": {},
   "outputs": [
    {
     "name": "stdout",
     "output_type": "stream",
     "text": [
      "Column Names\n",
      "Index(['#', 'Name', 'Type 1', 'Type 2', 'HP', 'Attack', 'Defense', 'Sp. Atk',\n",
      "       'Sp. Def', 'Speed', 'Generation', 'Legendary'],\n",
      "      dtype='object')\n",
      "\n",
      "First 5 rows of Name Column\n",
      "0                Bulbasaur\n",
      "1                  Ivysaur\n",
      "2                 Venusaur\n",
      "3    VenusaurMega Venusaur\n",
      "4               Charmander\n",
      "Name: Name, dtype: object\n",
      "\n",
      "3 Columns\n",
      "        Name Type 1  HP\n",
      "0  Bulbasaur  Grass  45\n",
      "1    Ivysaur  Grass  60\n",
      "2   Venusaur  Grass  80\n",
      "\n",
      "Using Integer location function\n",
      "   #       Name Type 1  Type 2  HP  Attack  Defense  Sp. Atk  Sp. Def  Speed  \\\n",
      "0  1  Bulbasaur  Grass  Poison  45      49       49       65       65     45   \n",
      "1  2    Ivysaur  Grass  Poison  60      62       63       80       80     60   \n",
      "2  3   Venusaur  Grass  Poison  80      82       83      100      100     80   \n",
      "\n",
      "   Generation  Legendary  \n",
      "0           1      False  \n",
      "1           1      False  \n",
      "2           1      False  \n"
     ]
    }
   ],
   "source": [
    "# Read Headers\n",
    "print('Column Names')\n",
    "print(df.columns)\n",
    "\n",
    "# Read each Column\n",
    "print('\\nFirst 5 rows of Name Column')\n",
    "print(df['Name'][0:5]) # Reads column Name, outputs first 5 rows. Can also do df.Name\n",
    "print('\\n3 Columns')\n",
    "print(df[['Name', 'Type 1', 'HP']][0:3]) # Change the input from a string to a list, keep the [] brackets.\n",
    "\n",
    "# Read each Row\n",
    "print('\\nUsing Integer location function')\n",
    "print(df.iloc[0:3]) # picks up row 0,1,2\n"
   ]
  },
  {
   "attachments": {},
   "cell_type": "markdown",
   "id": "4d2a42c9",
   "metadata": {},
   "source": [
    "loc Function and Iterating through Rows"
   ]
  },
  {
   "cell_type": "code",
   "execution_count": 3,
   "id": "76eb5ed4",
   "metadata": {},
   "outputs": [
    {
     "name": "stdout",
     "output_type": "stream",
     "text": [
      "\n",
      "iloc function Column 2, Row 1\n",
      "Venusaur\n",
      "\n",
      "loc function\n",
      "   #        Name Type 1 Type 2  HP  Attack  Defense  Sp. Atk  Sp. Def  Speed  \\\n",
      "4  4  Charmander   Fire    NaN  39      52       43       60       50     65   \n",
      "5  5  Charmeleon   Fire    NaN  58      64       58       80       65     80   \n",
      "\n",
      "   Generation  Legendary  \n",
      "4           1      False  \n",
      "5           1      False  \n",
      "\n",
      "Itterate through rows function\n"
     ]
    }
   ],
   "source": [
    "# iloc is used for integer indexing vs loc is used for label indexing\n",
    "\n",
    "# Read a specific location (column,row) = (2,1)\n",
    "print('\\niloc function Column 2, Row 1')\n",
    "print(df.iloc[2,1])\n",
    "\n",
    "# Filtering the df and pulling those rows. df['Type 1'] == \"Fire\" returns a column of True/False for each row depending if Type 1 is Fire or not\n",
    "# df.loc function uses this True/False column to return the rows with values True in the inputted column\n",
    "print(\"\\nloc function\")\n",
    "print(df.loc[df['Type 1'] == \"Fire\"][0:2]) # only get top 2 values for space of output concerns\n",
    "\n",
    "print(\"\\nItterate through rows function\")\n",
    "#for index, row in df.iterrows():\n",
    "#    print(index, row) #instead of printing the index and row, you can also do some manipulations to make a calculation based on columns for each row"
   ]
  },
  {
   "cell_type": "markdown",
   "id": "482d3c00",
   "metadata": {},
   "source": [
    "Sorting/Describing Data"
   ]
  },
  {
   "cell_type": "code",
   "execution_count": 4,
   "id": "01cb5e3d",
   "metadata": {},
   "outputs": [
    {
     "name": "stdout",
     "output_type": "stream",
     "text": [
      "useful function for general stats on data\n",
      "                #          HP      Attack     Defense     Sp. Atk     Sp. Def  \\\n",
      "count  800.000000  800.000000  800.000000  800.000000  800.000000  800.000000   \n",
      "mean   362.813750   69.258750   79.001250   73.842500   72.820000   71.902500   \n",
      "std    208.343798   25.534669   32.457366   31.183501   32.722294   27.828916   \n",
      "min      1.000000    1.000000    5.000000    5.000000   10.000000   20.000000   \n",
      "25%    184.750000   50.000000   55.000000   50.000000   49.750000   50.000000   \n",
      "50%    364.500000   65.000000   75.000000   70.000000   65.000000   70.000000   \n",
      "75%    539.250000   80.000000  100.000000   90.000000   95.000000   90.000000   \n",
      "max    721.000000  255.000000  190.000000  230.000000  194.000000  230.000000   \n",
      "\n",
      "            Speed  Generation  \n",
      "count  800.000000   800.00000  \n",
      "mean    68.277500     3.32375  \n",
      "std     29.060474     1.66129  \n",
      "min      5.000000     1.00000  \n",
      "25%     45.000000     2.00000  \n",
      "50%     65.000000     3.00000  \n",
      "75%     90.000000     5.00000  \n",
      "max    180.000000     6.00000  \n",
      "\n",
      "\n",
      "Sorting Descending\n",
      "       #              Name  Type 1  Type 2   HP  Attack  Defense  Sp. Atk  \\\n",
      "794  718  Zygarde50% Forme  Dragon  Ground  108     100      121       81   \n",
      "695  634          Zweilous    Dark  Dragon   72      85       70       65   \n",
      "\n",
      "     Sp. Def  Speed  Generation  Legendary  \n",
      "794       95     95           6       True  \n",
      "695       70     58           5      False  \n",
      "\n",
      "\n",
      "Sorting multiple columns\n",
      "       #       Name Type 1  Type 2  HP  Attack  Defense  Sp. Atk  Sp. Def  \\\n",
      "520  469    Yanmega    Bug  Flying  86      76       86      116       56   \n",
      "698  637  Volcarona    Bug    Fire  85      60       65      135      105   \n",
      "\n",
      "     Speed  Generation  Legendary  \n",
      "520     95           4      False  \n",
      "698    100           5      False  \n",
      "\n",
      "\n"
     ]
    }
   ],
   "source": [
    "print(\"useful function for general stats on data\")\n",
    "print(df.describe())\n",
    "print(\"\\n\")\n",
    "\n",
    "print(\"Sorting Descending\")\n",
    "print(df.sort_values('Name',ascending= False)[0:2])\n",
    "print(\"\\n\")\n",
    "\n",
    "print(\"Sorting multiple columns\")\n",
    "print(df.sort_values(['Type 1', 'HP'], ascending = [1,0])[0:2]) # [1,0] for ascending Type1 and descending HP. 0:2 for 2 records only.\n",
    "print(\"\\n\")"
   ]
  },
  {
   "attachments": {},
   "cell_type": "markdown",
   "id": "6fdb394a",
   "metadata": {},
   "source": [
    "Making Changes to the data\n"
   ]
  },
  {
   "cell_type": "code",
   "execution_count": 5,
   "id": "79e59cf1",
   "metadata": {},
   "outputs": [
    {
     "name": "stdout",
     "output_type": "stream",
     "text": [
      "   #       Name Type 1  Type 2  HP  Attack  Defense  Sp. Atk  Sp. Def  Speed  \\\n",
      "0  1  Bulbasaur  Grass  Poison  45      49       49       65       65     45   \n",
      "1  2    Ivysaur  Grass  Poison  60      62       63       80       80     60   \n",
      "2  3   Venusaur  Grass  Poison  80      82       83      100      100     80   \n",
      "\n",
      "   Generation  Legendary  Total  \n",
      "0           1      False    318  \n",
      "1           1      False    405  \n",
      "2           1      False    525  \n",
      "\n",
      "\n",
      "   #       Name Type 1  Type 2  HP  Attack  Defense  Sp. Atk  Sp. Def  Speed  \\\n",
      "0  1  Bulbasaur  Grass  Poison  45      49       49       65       65     45   \n",
      "1  2    Ivysaur  Grass  Poison  60      62       63       80       80     60   \n",
      "2  3   Venusaur  Grass  Poison  80      82       83      100      100     80   \n",
      "\n",
      "   Generation  Legendary  \n",
      "0           1      False  \n",
      "1           1      False  \n",
      "2           1      False  \n",
      "\n",
      "\n",
      "   #       Name Type 1  Type 2  HP  Attack  Defense  Sp. Atk  Sp. Def  Speed  \\\n",
      "0  1  Bulbasaur  Grass  Poison  45      49       49       65       65     45   \n",
      "1  2    Ivysaur  Grass  Poison  60      62       63       80       80     60   \n",
      "2  3   Venusaur  Grass  Poison  80      82       83      100      100     80   \n",
      "\n",
      "   Generation  Legendary  Total  \n",
      "0           1      False    318  \n",
      "1           1      False    405  \n",
      "2           1      False    525  \n",
      "\n",
      "\n",
      "   #       Name Type 1  Type 2  Total  HP  Attack  Defense  Sp. Atk  Sp. Def  \\\n",
      "0  1  Bulbasaur  Grass  Poison    318  45      49       49       65       65   \n",
      "1  2    Ivysaur  Grass  Poison    405  60      62       63       80       80   \n",
      "2  3   Venusaur  Grass  Poison    525  80      82       83      100      100   \n",
      "\n",
      "   Speed  Generation  Legendary  \n",
      "0     45           1      False  \n",
      "1     60           1      False  \n",
      "2     80           1      False  \n"
     ]
    }
   ],
   "source": [
    "df['Total'] = df['HP'] + df['Attack'] + df ['Defense'] + df['Sp. Atk'] + df['Sp. Def'] + df['Speed'] # making an overall stat\n",
    "\n",
    "print(df.head(3))\n",
    "print(\"\\n\")\n",
    "\n",
    "df = df.drop(columns = ['Total'])\n",
    "print(df.head(3))\n",
    "print(\"\\n\")\n",
    "\n",
    "# Can also make a column using iloc\n",
    "df['Total'] = df.iloc[:, 4:10].sum(axis=1) # All rows, column 4 to 9. Axis = 1 for adding Horizontally, Axis = 0 for adding vertically\n",
    "print(df.head(3))\n",
    "print(\"\\n\")\n",
    "\n",
    "# Move this column over to a specific spot\n",
    "cols = list(df.columns) # puts columns in a list\n",
    "df = df[cols[0:4] + [cols[-1]] + cols[4:12]]\n",
    "print(df.head(3))"
   ]
  },
  {
   "attachments": {},
   "cell_type": "markdown",
   "id": "38e66309",
   "metadata": {},
   "source": [
    "Creating an excel file of modified data"
   ]
  },
  {
   "cell_type": "code",
   "execution_count": 6,
   "id": "082fc8b9",
   "metadata": {},
   "outputs": [],
   "source": [
    "# df.to_csv('modified_data.csv', index = False) # Writes to a csv file, index = False does not create an index when saving, (we already have a columne for index)\n",
    "\n",
    "# can also use df.to_excel('modified_data.xlsx, index = False)\n",
    "# can also use df.to_csv('modified_data.txt, index = False, sep ='\\t'). Default seperator is commas."
   ]
  },
  {
   "cell_type": "code",
   "execution_count": null,
   "id": "caf38fbb",
   "metadata": {},
   "outputs": [],
   "source": []
  }
 ],
 "metadata": {
  "kernelspec": {
   "display_name": "Python 3 (ipykernel)",
   "language": "python",
   "name": "python3"
  },
  "language_info": {
   "codemirror_mode": {
    "name": "ipython",
    "version": 3
   },
   "file_extension": ".py",
   "mimetype": "text/x-python",
   "name": "python",
   "nbconvert_exporter": "python",
   "pygments_lexer": "ipython3",
   "version": "3.11.1"
  }
 },
 "nbformat": 4,
 "nbformat_minor": 5
}
